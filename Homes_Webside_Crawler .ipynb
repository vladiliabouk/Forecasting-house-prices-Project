{
 "cells": [
  {
   "cell_type": "code",
   "execution_count": 1,
   "id": "3ad8e633",
   "metadata": {},
   "outputs": [],
   "source": [
    "from collections import deque \n",
    "from collections import Counter\n",
    "import os                           \n",
    "import csv\n",
    "import re\n",
    "from selenium.webdriver.chrome.options import Options\n",
    "from selenium.webdriver.support import expected_conditions as EC\n",
    "from selenium.webdriver.common.by import By\n",
    "from selenium.webdriver.support.ui import WebDriverWait"
   ]
  },
  {
   "cell_type": "code",
   "execution_count": 2,
   "id": "44fc4494",
   "metadata": {},
   "outputs": [],
   "source": [
    "def extract_prices(text):  #פונקציה שמשאירה רק את המחיר\n",
    "    prices = []\n",
    "    pattern = r'\\$\\d+(?:\\,\\d+)?'\n",
    "    matches = re.findall(pattern, text)\n",
    "    for match in matches:\n",
    "        prices.append(match)\n",
    "    return prices\n",
    "\n",
    "def find_example_line(text,toSearch): #פונקציה למשיכת הנתונים מהדף של הדירה\n",
    "    missing = \"None\"\n",
    "    lines = text.split('\\n')\n",
    "    for line in lines:\n",
    "        if line.startswith(toSearch):\n",
    "            return line\n",
    "    return missing\n",
    "\n",
    "def find_property_links(input_string):  #פונקציה שמטפלת בכל הלינקים שקיבלנו שיהיו בצורה שאנחנו צריכים\n",
    "        links = []\n",
    "        for match in re.findall(r'<a href=\"/property/[^/][^\"]*\"', input_string):\n",
    "            links.append(match.split('\"')[1])\n",
    "        return links\n",
    "def extract_bedrooms(string): #פונקציה שמשאירה רק את כמות חדרי האמבטיות\n",
    "    test = \"\"\n",
    "    if string[3] == 'e':\n",
    "        test = string[0]\n",
    "        return test\n",
    "    else:\n",
    "        test = \"None\"\n",
    "        return test\n",
    "def extract_bathrooms(string): #פונקציה שמשאירה רק את כמות חדר השינה\n",
    "    test = \"\"\n",
    "    if string[10] == 'a':\n",
    "        test = string[7]\n",
    "        return test\n",
    "    else:\n",
    "        test = \"None\"\n",
    "        return test\n",
    "def extract_Sqf(string): #פונקציה שמשאירה רק את המטר מרובע במספר\n",
    "    if string[21] == 'S':\n",
    "        sqft = re.findall(r\"\\b[\\d,]+\\b\\s*Sq Ft\", string)[0]\n",
    "        sqft = re.sub(\",\", \"\", re.findall(r\"\\d{1,4}(?:,\\d{3})*\", sqft)[0])\n",
    "        return sqft\n",
    "    test = \"None\"\n",
    "    return test"
   ]
  },
  {
   "cell_type": "code",
   "execution_count": 3,
   "id": "9d1cf785",
   "metadata": {},
   "outputs": [],
   "source": [
    "import undetected_chromedriver as uc #פתיחת העמוד הראשי והפעלת מונע חסימות\n",
    "driver = uc.Chrome() \n",
    "driver.get(\"https://www.homes.com/las-vegas-nv/sold/\") "
   ]
  },
  {
   "cell_type": "code",
   "execution_count": 4,
   "id": "c7c1787a",
   "metadata": {},
   "outputs": [],
   "source": [
    "links_list = []\n",
    "refined_info = []\n",
    "k = 1                    #ריצה על כל העמודים \n",
    "while(k <= 28):\n",
    "    driver.get(\"https://www.homes.com/las-vegas-nv/\"+\"sold/\"+\"p\"+str(k)+\"/\")\n",
    "    myDiv = driver.find_elements(By.CLASS_NAME, 'price-container')\n",
    "    links = driver.find_elements(By.CSS_SELECTOR, \"#placardContainer > div.search-placards-container > ul > li\")\n",
    "    i = 0\n",
    "    size = len(links)\n",
    "    while( i < size):       #הכנסת כל HTML של העמודים\n",
    "        links_list += links[i].get_attribute('outerHTML')\n",
    "        i += 1\n",
    "    k+=1"
   ]
  },
  {
   "cell_type": "code",
   "execution_count": 5,
   "id": "61852bc2",
   "metadata": {},
   "outputs": [],
   "source": [
    "string = ''.join(links_list)   #ניקוי כל הדברים שלא צריך שהוצמדו ללינקים\n",
    "links_list = find_property_links(string)\n",
    "links_list = [elem.split(',') for elem in links_list]"
   ]
  },
  {
   "cell_type": "code",
   "execution_count": 6,
   "id": "597ea845",
   "metadata": {},
   "outputs": [],
   "source": [
    "new_list = []      #הכנסה של הלינקים למערך חדש אחרי שנוקו\n",
    "for item in links_list:\n",
    "    if item not in new_list:\n",
    "        new_list.append(item)"
   ]
  },
  {
   "cell_type": "code",
   "execution_count": 7,
   "id": "b0af8761",
   "metadata": {},
   "outputs": [],
   "source": [
    "df = pd.DataFrame(new_list) #שמירת הלינקים בדאטה פריים\n",
    "df.to_csv(\"try5.csv\", index = False)"
   ]
  },
  {
   "cell_type": "code",
   "execution_count": 8,
   "id": "0a5551c8",
   "metadata": {},
   "outputs": [
    {
     "data": {
      "text/plain": [
       "['0']"
      ]
     },
     "execution_count": 8,
     "metadata": {},
     "output_type": "execute_result"
    }
   ],
   "source": [
    "with open('try5.csv', 'r') as csvfile: #טעינה של הלינקים מדאטה פריים והוצאה של הערך 0 שנשבחר תמיד אחרי שפותחים מדאטה פריים\n",
    "    csvreader = csv.reader(csvfile)\n",
    "    new_list = list(csvreader)\n",
    "    \n",
    "new_list.pop(0)"
   ]
  },
  {
   "cell_type": "code",
   "execution_count": 9,
   "id": "c194ecd0",
   "metadata": {},
   "outputs": [],
   "source": [
    "YBD = \"Year Built Details\" #19\n",
    "R = \"Roof\" #5\n",
    "PST = \"Property Sub Type\" #18\n",
    "AG = \"Attached Garage\" #16\n",
    "S = \"Sewer\" #6\n",
    "AC = \"Attribution Contact\" #20\n",
    "PB = \"Possible Bedrooms\" #18\n",
    "Fire = \"Fireplace \" #10\n",
    "C = \"Cooling\" #8\n",
    "AF = \"Association Fee\" #16\n",
    "Floor = \"Flooring\" #9\n",
    "WF = \"Window Features\" #16\n",
    "PF = \"Parking Features\" #17\n",
    "PAPF = \"Patio And Porch Features\" #25\n",
    "H = \"Heating\" #8\n",
    "Fencing = \"Fencing\" #8\n",
    "YBD_list = []\n",
    "R_list = []\n",
    "PST_list = []\n",
    "AG_list = []\n",
    "S_list = []\n",
    "AC_list = []\n",
    "PB_list = []\n",
    "Fire_list = []\n",
    "C_list = []                                       #הגדרה של כל מה שאנחנו מחפשים ובאיזה אורך כל מילה\n",
    "AF_list = []\n",
    "Floor_list = []\n",
    "WF_list = []\n",
    "PF_list = []\n",
    "PAPF_list = []\n",
    "H_list = []\n",
    "Fencing_list = []\n",
    "Price_list = []\n",
    "beds_list = []\n",
    "Baths_list = []\n",
    "Sq_Ft_list = []\n",
    "Adress_list = []"
   ]
  },
  {
   "cell_type": "code",
   "execution_count": 13,
   "id": "0d43af6c",
   "metadata": {},
   "outputs": [],
   "source": [
    "size_list = len(new_list) #בדיקה של כמות הלינקים על מנת שנדע מתי לעצור את הלולאה\n",
    "p = 0\n",
    "while(p < size_list):\n",
    "    string = str(new_list[p]) #השמטה של מה שלא צריך בטעינה של הלינקים והוספה לכתובת הראשית ובעזרת הלולאה נעבור דירה דירה וניקח מה שצריך\n",
    "    string = string[2:-2]\n",
    "    driver.get(\"https://www.homes.com\"+string)\n",
    "    string2 = \"\"\n",
    "    elems = driver.find_elements(By.CLASS_NAME, 'property-info-features')\n",
    "    for elem in elems:\n",
    "        string2 += elem.text\n",
    "        \n",
    "    price_elem = driver.find_element(By.ID, 'price')    #5 אלמנטים שניקח בחלק העליון של הדף שנמצאים בקלאס אחר מהשאר\n",
    "    price_elem_text = price_elem.text    \n",
    "    Price_list.append(price_elem_text)\n",
    "    \n",
    "    address_ele = driver.find_element(By.TAG_NAME, 'h1')\n",
    "    address_ele_text = address_ele.text\n",
    "    Adress_list.append(address_ele_text)\n",
    "    beds_list.append(extract_bedrooms(string2))\n",
    "    Baths_list.append(extract_bathrooms(string2))\n",
    "    Sq_Ft_list.append(extract_Sqf(string2))\n",
    "    \n",
    "    \n",
    "    Text = driver.find_element(By.ID, 'amenities-container')\n",
    "    Text = Text.text\n",
    "    YBD_list.append(find_example_line(Text,YBD)[20:])  \n",
    "    R_list.append(find_example_line(Text,R)[6:])                 #אחרי שנמצא אם השם שחיםשנו ניקח רק את מה שאחריו ולא את השם עצמו שיופיע בשם העמודה\n",
    "    PST_list.append(find_example_line(Text,PST)[19:])  \n",
    "    AG_list.append(find_example_line(Text,AG)[17:])  \n",
    "    S_list.append(find_example_line(Text,S)[7:])  \n",
    "    AC_list.append(find_example_line(Text,AC)[21:]) \n",
    "    PB_list.append(find_example_line(Text,PB)[19:]) \n",
    "    Fire_list.append(find_example_line(Text,Fire)[11:]) \n",
    "    C_list.append(find_example_line(Text,C)[9:]) \n",
    "    AF_list.append(find_example_line(Text,AF)[17:]) \n",
    "    Floor_list.append(find_example_line(Text,Floor)[10:]) \n",
    "    WF_list.append(find_example_line(Text,WF)[17:]) \n",
    "    PF_list.append(find_example_line(Text,PF)[18:]) \n",
    "    PAPF_list.append(find_example_line(Text,PAPF)[26:]) \n",
    "    H_list.append(find_example_line(Text,H)[9:]) \n",
    "    Fencing_list.append(find_example_line(Text,Fencing)[9:]) \n",
    "    p += 1"
   ]
  },
  {
   "cell_type": "code",
   "execution_count": 14,
   "id": "9c7795e3",
   "metadata": {},
   "outputs": [],
   "source": [
    "df = pd.DataFrame(zip(Price_list,beds_list, Baths_list, Sq_Ft_list,Adress_list,YBD_list,R_list,PST_list,AG_list,S_list,AC_list,PB_list,Fire_list,C_list,AF_list,Floor_list,WF_list,PF_list,PAPF_list,H_list,Fencing_list), columns=['Price', 'Beds_Count', 'Baths_Count', 'Sq_Ft_Count', 'Address','Year Built Details','Roof','Property Sub Type','Attached Garage','Sewer','Attribution Contact','Possible Bedrooms','Fireplace','Cooling','Association Fee','Flooring','Window Features','Parking Features','Patio And Porch Features','Heating','Fencing'])\n",
    "df.to_csv('table3.csv')    #שמירה של כל מה שלקחנו בדאטה סט וכל ערך יכנס בדיוק לעמודה שלו ולפי הסדר ששמרנו בליסטים"
   ]
  }
 ],
 "metadata": {
  "kernelspec": {
   "display_name": "Python 3 (ipykernel)",
   "language": "python",
   "name": "python3"
  },
  "language_info": {
   "codemirror_mode": {
    "name": "ipython",
    "version": 3
   },
   "file_extension": ".py",
   "mimetype": "text/x-python",
   "name": "python",
   "nbconvert_exporter": "python",
   "pygments_lexer": "ipython3",
   "version": "3.9.13"
  }
 },
 "nbformat": 4,
 "nbformat_minor": 5
}
